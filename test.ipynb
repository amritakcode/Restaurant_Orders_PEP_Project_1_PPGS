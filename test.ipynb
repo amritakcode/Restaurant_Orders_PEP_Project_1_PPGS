{
 "cells": [
  {
   "cell_type": "code",
   "execution_count": null,
   "metadata": {},
   "outputs": [],
   "source": [
    "import pandas as pd\n",
    "import yaml\n",
    "\n",
    "customer_statistics = 'customer_statistics.csv'\n",
    "orders = 'orders.csv'\n",
    "customer_demographics = 'customer_demographics.yaml'\n",
    "\n",
    "with open(customer_demographics, 'r') as file:\n",
    "    data = yaml.safe_load(file)\n",
    "\n",
    "df1 = pd.DataFrame(data).transpose()"
   ]
  },
  {
   "cell_type": "code",
   "execution_count": null,
   "metadata": {},
   "outputs": [],
   "source": [
    "df2 = pd.read_csv(customer_statistics)"
   ]
  }
 ],
 "metadata": {
  "language_info": {
   "name": "python"
  }
 },
 "nbformat": 4,
 "nbformat_minor": 2
}
