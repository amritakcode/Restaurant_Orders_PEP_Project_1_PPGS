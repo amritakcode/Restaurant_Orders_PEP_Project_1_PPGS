{
  "cells": [
    {
      "cell_type": "code",
      "execution_count": null,
      "metadata": {
        "id": "qo1btyf_4vjA"
      },
      "outputs": [],
      "source": [
        "import pandas as pd\n",
        "import yaml\n",
        "\n",
        "customer_statistics = '/content/sample_data/customer_statistics.csv'\n",
        "orders = '/content/sample_data/orders.csv'\n",
        "customer_demographics = '/content/sample_data/customer_demographics.yaml'\n",
        "\n",
        "\n",
        "with open(customer_demographics, 'r') as file:\n",
        "    data = yaml.safe_load(file)\n",
        "\n",
        "df_customer_demographics = pd.DataFrame(data).transpose()\n"
      ]
    },
    {
      "cell_type": "code",
      "execution_count": null,
      "metadata": {
        "colab": {
          "base_uri": "https://localhost:8080/",
          "height": 964
        },
        "id": "JLS3kf0n5o1b",
        "outputId": "fa995a6a-3331-484b-aade-db7f71a62e85"
      },
      "outputs": [],
      "source": [
        "df_customer_demographics"
      ]
    },
    {
      "cell_type": "code",
      "execution_count": null,
      "metadata": {
        "id": "nMu_18he4vjD"
      },
      "outputs": [],
      "source": [
        "df_customer_statistics = pd.read_csv(customer_statistics)"
      ]
    },
    {
      "cell_type": "code",
      "execution_count": null,
      "metadata": {
        "colab": {
          "base_uri": "https://localhost:8080/",
          "height": 423
        },
        "id": "PbuoVTsj5smT",
        "outputId": "3a5e4cfa-c9bc-4d6e-cc11-13d443538487"
      },
      "outputs": [],
      "source": [
        "df_customer_statistics"
      ]
    },
    {
      "cell_type": "code",
      "execution_count": null,
      "metadata": {
        "colab": {
          "base_uri": "https://localhost:8080/",
          "height": 423
        },
        "id": "lwrK_1vE5xkF",
        "outputId": "64ee5755-1384-4249-e33b-0981fc3245cf"
      },
      "outputs": [],
      "source": [
        "#clean\n",
        "clean_df_customer_statistics = df_customer_statistics.groupby('customer_id').agg({\n",
        "    'total_orders': 'sum',\n",
        "    'total_items': 'sum',\n",
        "    'total_spent': 'sum'}).reset_index()\n",
        "\n",
        "clean_df_customer_statistics"
      ]
    },
    {
      "cell_type": "code",
      "execution_count": null,
      "metadata": {
        "colab": {
          "base_uri": "https://localhost:8080/",
          "height": 423
        },
        "id": "fr8-zVwZ86T3",
        "outputId": "69e18950-25a9-4133-f456-c0b20e026b49"
      },
      "outputs": [],
      "source": [
        "df_orders = pd.read_csv(orders)\n",
        "\n",
        "df_orders"
      ]
    },
    {
      "cell_type": "code",
      "execution_count": null,
      "metadata": {
        "colab": {
          "base_uri": "https://localhost:8080/",
          "height": 964
        },
        "id": "N9eojwk0952L",
        "outputId": "ca60a6c6-a903-4886-82f8-a815fdb2b139"
      },
      "outputs": [],
      "source": [
        "#merge first round\n",
        "merged_final = pd.merge(clean_df_customer_statistics, df_customer_demographics, left_on='customer_id', right_index=True, how='inner')\n",
        "merged_final\n"
      ]
    },
    {
      "cell_type": "code",
      "execution_count": null,
      "metadata": {
        "colab": {
          "base_uri": "https://localhost:8080/",
          "height": 947
        },
        "id": "rtUiWKNbAHZ6",
        "outputId": "44937ec4-db4c-4fbc-da21-99f36a156d13"
      },
      "outputs": [],
      "source": [
        "#merge second round\n",
        "merged_final_final = pd.merge(merged_final, df_orders, on='customer_id', how='right')\n",
        "merged_final_final"
      ]
    },
    {
      "cell_type": "code",
      "execution_count": null,
      "metadata": {},
      "outputs": [],
      "source": [
        "import sqlite3\n",
        "\n",
        "conn = sqlite3.connect(\"orders.db\")\n",
        "cursor = conn.cursor()\n",
        "\n",
        "stmnt1 = '''create table orders (\n",
        "    order_id integer primary key,\n",
        "    customer_id integer,\n",
        "    items text,\n",
        "    aperitifs text,\n",
        "    appetizers text,\n",
        "    entrees text,\n",
        "    dessert text,\n",
        "    total numeric(10, 2)\n",
        "    )\n",
        "'''\n",
        "stmnt2 = '''create table customers (\n",
        "    id integer primary key,\n",
        "    address text,\n",
        "    city text,\n",
        "    credit_card_expires date,\n",
        "    credit_card_number text,\n",
        "    credit_card_security_code text,\n",
        "    customer_id text,\n",
        "    email text,\n",
        "    name text,\n",
        "    phone_number text,\n",
        "    state text,\n",
        "    zip_code text check (length(zip_code) = 5),\n",
        "    total_orders int,\n",
        "    total_items int,\n",
        "    total_spent numeric(10, 2)\n",
        "    )\n",
        "'''\n",
        "cursor.execute(stmnt1)\n",
        "cursor.execute(stmnt2)"
      ]
    }
  ],
  "metadata": {
    "colab": {
      "provenance": []
    },
    "kernelspec": {
      "display_name": "Python 3",
      "name": "python3"
    },
    "language_info": {
      "name": "python"
    }
  },
  "nbformat": 4,
  "nbformat_minor": 0
}
