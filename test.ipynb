{
  "cells": [
    {
      "cell_type": "code",
      "execution_count": 2,
      "metadata": {
        "id": "qo1btyf_4vjA"
      },
      "outputs": [
        {
          "ename": "FileNotFoundError",
          "evalue": "[Errno 2] No such file or directory: '/content/sample_data/customer_demographics.yaml'",
          "output_type": "error",
          "traceback": [
            "\u001b[0;31m---------------------------------------------------------------------------\u001b[0m",
            "\u001b[0;31mFileNotFoundError\u001b[0m                         Traceback (most recent call last)",
            "Cell \u001b[0;32mIn[2], line 9\u001b[0m\n\u001b[1;32m      5\u001b[0m orders \u001b[38;5;241m=\u001b[39m \u001b[38;5;124m'\u001b[39m\u001b[38;5;124m/content/sample_data/orders.csv\u001b[39m\u001b[38;5;124m'\u001b[39m\n\u001b[1;32m      6\u001b[0m customer_demographics \u001b[38;5;241m=\u001b[39m \u001b[38;5;124m'\u001b[39m\u001b[38;5;124m/content/sample_data/customer_demographics.yaml\u001b[39m\u001b[38;5;124m'\u001b[39m\n\u001b[0;32m----> 9\u001b[0m \u001b[38;5;28;01mwith\u001b[39;00m \u001b[38;5;28;43mopen\u001b[39;49m\u001b[43m(\u001b[49m\u001b[43mcustomer_demographics\u001b[49m\u001b[43m,\u001b[49m\u001b[43m \u001b[49m\u001b[38;5;124;43m'\u001b[39;49m\u001b[38;5;124;43mr\u001b[39;49m\u001b[38;5;124;43m'\u001b[39;49m\u001b[43m)\u001b[49m \u001b[38;5;28;01mas\u001b[39;00m file:\n\u001b[1;32m     10\u001b[0m     data \u001b[38;5;241m=\u001b[39m yaml\u001b[38;5;241m.\u001b[39msafe_load(file)\n\u001b[1;32m     12\u001b[0m df_customer_demographics \u001b[38;5;241m=\u001b[39m pd\u001b[38;5;241m.\u001b[39mDataFrame(data)\u001b[38;5;241m.\u001b[39mtranspose()\n",
            "File \u001b[0;32m~/.local/lib/python3.10/site-packages/IPython/core/interactiveshell.py:310\u001b[0m, in \u001b[0;36m_modified_open\u001b[0;34m(file, *args, **kwargs)\u001b[0m\n\u001b[1;32m    303\u001b[0m \u001b[38;5;28;01mif\u001b[39;00m file \u001b[38;5;129;01min\u001b[39;00m {\u001b[38;5;241m0\u001b[39m, \u001b[38;5;241m1\u001b[39m, \u001b[38;5;241m2\u001b[39m}:\n\u001b[1;32m    304\u001b[0m     \u001b[38;5;28;01mraise\u001b[39;00m \u001b[38;5;167;01mValueError\u001b[39;00m(\n\u001b[1;32m    305\u001b[0m         \u001b[38;5;124mf\u001b[39m\u001b[38;5;124m\"\u001b[39m\u001b[38;5;124mIPython won\u001b[39m\u001b[38;5;124m'\u001b[39m\u001b[38;5;124mt let you open fd=\u001b[39m\u001b[38;5;132;01m{\u001b[39;00mfile\u001b[38;5;132;01m}\u001b[39;00m\u001b[38;5;124m by default \u001b[39m\u001b[38;5;124m\"\u001b[39m\n\u001b[1;32m    306\u001b[0m         \u001b[38;5;124m\"\u001b[39m\u001b[38;5;124mas it is likely to crash IPython. If you know what you are doing, \u001b[39m\u001b[38;5;124m\"\u001b[39m\n\u001b[1;32m    307\u001b[0m         \u001b[38;5;124m\"\u001b[39m\u001b[38;5;124myou can use builtins\u001b[39m\u001b[38;5;124m'\u001b[39m\u001b[38;5;124m open.\u001b[39m\u001b[38;5;124m\"\u001b[39m\n\u001b[1;32m    308\u001b[0m     )\n\u001b[0;32m--> 310\u001b[0m \u001b[38;5;28;01mreturn\u001b[39;00m \u001b[43mio_open\u001b[49m\u001b[43m(\u001b[49m\u001b[43mfile\u001b[49m\u001b[43m,\u001b[49m\u001b[43m \u001b[49m\u001b[38;5;241;43m*\u001b[39;49m\u001b[43margs\u001b[49m\u001b[43m,\u001b[49m\u001b[43m \u001b[49m\u001b[38;5;241;43m*\u001b[39;49m\u001b[38;5;241;43m*\u001b[39;49m\u001b[43mkwargs\u001b[49m\u001b[43m)\u001b[49m\n",
            "\u001b[0;31mFileNotFoundError\u001b[0m: [Errno 2] No such file or directory: '/content/sample_data/customer_demographics.yaml'"
          ]
        }
      ],
      "source": [
        "import pandas as pd\n",
        "import yaml\n",
        "\n",
        "customer_statistics = '/content/sample_data/customer_statistics.csv'\n",
        "orders = '/content/sample_data/orders.csv'\n",
        "customer_demographics = '/content/sample_data/customer_demographics.yaml'\n",
        "\n",
        "\n",
        "with open(customer_demographics, 'r') as file:\n",
        "    data = yaml.safe_load(file)\n",
        "\n",
        "df_customer_demographics = pd.DataFrame(data).transpose()\n"
      ]
    },
    {
      "cell_type": "code",
      "execution_count": null,
      "metadata": {
        "colab": {
          "base_uri": "https://localhost:8080/",
          "height": 964
        },
        "id": "JLS3kf0n5o1b",
        "outputId": "fa995a6a-3331-484b-aade-db7f71a62e85"
      },
      "outputs": [],
      "source": [
        "df_customer_demographics"
      ]
    },
    {
      "cell_type": "code",
      "execution_count": null,
      "metadata": {
        "id": "nMu_18he4vjD"
      },
      "outputs": [],
      "source": [
        "df_customer_statistics = pd.read_csv(customer_statistics)"
      ]
    },
    {
      "cell_type": "code",
      "execution_count": null,
      "metadata": {
        "colab": {
          "base_uri": "https://localhost:8080/",
          "height": 423
        },
        "id": "PbuoVTsj5smT",
        "outputId": "3a5e4cfa-c9bc-4d6e-cc11-13d443538487"
      },
      "outputs": [],
      "source": [
        "df_customer_statistics"
      ]
    },
    {
      "cell_type": "code",
      "execution_count": null,
      "metadata": {
        "colab": {
          "base_uri": "https://localhost:8080/",
          "height": 423
        },
        "id": "lwrK_1vE5xkF",
        "outputId": "64ee5755-1384-4249-e33b-0981fc3245cf"
      },
      "outputs": [],
      "source": [
        "#clean\n",
        "clean_df_customer_statistics = df_customer_statistics.groupby('customer_id').agg({\n",
        "    'total_orders': 'sum',\n",
        "    'total_items': 'sum',\n",
        "    'total_spent': 'sum'}).reset_index()\n",
        "\n",
        "clean_df_customer_statistics"
      ]
    },
    {
      "cell_type": "code",
      "execution_count": null,
      "metadata": {
        "colab": {
          "base_uri": "https://localhost:8080/",
          "height": 423
        },
        "id": "fr8-zVwZ86T3",
        "outputId": "69e18950-25a9-4133-f456-c0b20e026b49"
      },
      "outputs": [],
      "source": [
        "df_orders = pd.read_csv(orders)\n",
        "\n",
        "df_orders"
      ]
    },
    {
      "cell_type": "code",
      "execution_count": null,
      "metadata": {
        "colab": {
          "base_uri": "https://localhost:8080/",
          "height": 964
        },
        "id": "N9eojwk0952L",
        "outputId": "ca60a6c6-a903-4886-82f8-a815fdb2b139"
      },
      "outputs": [],
      "source": [
        "#merge first round\n",
        "merged_final = pd.merge(clean_df_customer_statistics, df_customer_demographics, left_on='customer_id', right_index=True, how='inner')\n",
        "merged_final\n"
      ]
    },
    {
      "cell_type": "code",
      "execution_count": null,
      "metadata": {
        "colab": {
          "base_uri": "https://localhost:8080/",
          "height": 947
        },
        "id": "rtUiWKNbAHZ6",
        "outputId": "44937ec4-db4c-4fbc-da21-99f36a156d13"
      },
      "outputs": [],
      "source": [
        "#merge second round\n",
        "merged_final_final = pd.merge(merged_final, df_orders, on='customer_id', how='right')\n",
        "merged_final_final"
      ]
    },
    {
      "cell_type": "code",
      "execution_count": null,
      "metadata": {},
      "outputs": [],
      "source": [
        "import sqlite3\n",
        "\n",
        "conn = sqlite3.connect(\"orders.db\")\n",
        "cursor = conn.cursor()\n",
        "\n",
        "stmnt1 = '''create table orders (\n",
        "    order_id text primary key,\n",
        "    customer_id integer,\n",
        "    items text,\n",
        "    aperitifs text,\n",
        "    appetizers text,\n",
        "    entrees text,\n",
        "    desserts text,\n",
        "    total numeric(10, 2)\n",
        "    )\n",
        "'''\n",
        "stmnt2 = '''create table customers (\n",
        "    id integer primary key,\n",
        "    total_orders int,\n",
        "    total_items int,\n",
        "    total_spent numeric(10, 2),\n",
        "    address text,\n",
        "    city text,\n",
        "    credit_card_expires date,\n",
        "    credit_card_number text,\n",
        "    credit_card_security_code text,\n",
        "    customer_id text,\n",
        "    email text,\n",
        "    name text,\n",
        "    phone_number text,\n",
        "    state text,\n",
        "    zip_code text check (length(zip_code) = 5)\n",
        "    )\n",
        "'''\n",
        "cursor.execute(stmnt1)\n",
        "cursor.execute(stmnt2)"
      ]
    },
    {
      "cell_type": "code",
      "execution_count": null,
      "metadata": {},
      "outputs": [
        {
          "ename": "NameError",
          "evalue": "name 'merged_final_final' is not defined",
          "output_type": "error",
          "traceback": [
            "\u001b[0;31m---------------------------------------------------------------------------\u001b[0m",
            "\u001b[0;31mNameError\u001b[0m                                 Traceback (most recent call last)",
            "Cell \u001b[0;32mIn[1], line 1\u001b[0m\n\u001b[0;32m----> 1\u001b[0m merged_list \u001b[38;5;241m=\u001b[39m \u001b[43mmerged_final_final\u001b[49m\u001b[38;5;241m.\u001b[39mvalues\u001b[38;5;241m.\u001b[39mtolist()\n\u001b[1;32m      2\u001b[0m customer_list \u001b[38;5;241m=\u001b[39m []\n\u001b[1;32m      3\u001b[0m orders_list \u001b[38;5;241m=\u001b[39m []\n",
            "\u001b[0;31mNameError\u001b[0m: name 'merged_final_final' is not defined"
          ]
        }
      ],
      "source": [
        "merged_list = merged_final_final.values.tolist()\n",
        "customer_list = []\n",
        "orders_list = []\n",
        "\n",
        "for row in merged_list:\n",
        "    if not pd.isna(row[1]):\n",
        "        customer_list.append(row[1:17])\n",
        "    orders_list.append(row[17::] + [row[0]])"
      ]
    }
  ],
  "metadata": {
    "colab": {
      "provenance": []
    },
    "kernelspec": {
      "display_name": "Python 3",
      "name": "python3"
    },
    "language_info": {
      "codemirror_mode": {
        "name": "ipython",
        "version": 3
      },
      "file_extension": ".py",
      "mimetype": "text/x-python",
      "name": "python",
      "nbconvert_exporter": "python",
      "pygments_lexer": "ipython3",
      "version": "3.10.6"
    }
  },
  "nbformat": 4,
  "nbformat_minor": 0
}
