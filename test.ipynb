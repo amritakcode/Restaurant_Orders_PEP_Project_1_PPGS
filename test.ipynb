{
  "cells": [
    {
      "cell_type": "code",
      "execution_count": null,
      "metadata": {
        "id": "qo1btyf_4vjA"
      },
      "outputs": [],
      "source": [
        "import pandas as pd\n",
        "import yaml\n",
        "import sqlite3\n",
        "\n",
        "customer_statistics = '/content/sample_data/customer_statistics.csv'\n",
        "orders = '/content/sample_data/orders.csv'\n",
        "customer_demographics = '/content/sample_data/customer_demographics.yaml'\n",
        "\n",
        "\n",
        "with open(customer_demographics, 'r') as file:\n",
        "    data = yaml.safe_load(file)\n",
        "\n",
        "df_customer_demographics = pd.DataFrame(data).transpose()\n",
        "df_customer_statistics = pd.read_csv(customer_statistics)\n",
        "df_orders = pd.read_csv(orders)\n"
      ]
    },
    {
      "cell_type": "code",
      "execution_count": null,
      "metadata": {
        "colab": {
          "base_uri": "https://localhost:8080/",
          "height": 423
        },
        "id": "lwrK_1vE5xkF",
        "outputId": "64ee5755-1384-4249-e33b-0981fc3245cf"
      },
      "outputs": [],
      "source": [
        "#clean\n",
        "df_customer_statistics = df_customer_statistics.groupby('customer_id').agg({\n",
        "    'total_orders': 'sum',\n",
        "    'total_items': 'sum',\n",
        "    'total_spent': 'sum'}).reset_index()"
      ]
    },
    {
      "cell_type": "code",
      "execution_count": null,
      "metadata": {
        "colab": {
          "base_uri": "https://localhost:8080/",
          "height": 964
        },
        "id": "N9eojwk0952L",
        "outputId": "ca60a6c6-a903-4886-82f8-a815fdb2b139"
      },
      "outputs": [],
      "source": [
        "#merge first round\n",
        "merged_final = pd.merge(df_customer_statistics, df_customer_demographics, left_on='customer_id', right_index=True, how='inner')"
      ]
    },
    {
      "cell_type": "code",
      "execution_count": null,
      "metadata": {
        "colab": {
          "base_uri": "https://localhost:8080/",
          "height": 947
        },
        "id": "rtUiWKNbAHZ6",
        "outputId": "44937ec4-db4c-4fbc-da21-99f36a156d13"
      },
      "outputs": [],
      "source": [
        "#merge second round\n",
        "merged_final = pd.merge(merged_final, df_orders, on='customer_id', how='right')"
      ]
    },
    {
      "cell_type": "code",
      "execution_count": null,
      "metadata": {},
      "outputs": [],
      "source": [
        "conn = sqlite3.connect(\"orders.db\")\n",
        "cursor = conn.cursor()\n",
        "\n",
        "stmnt1 = '''create table orders (\n",
        "    order_id text primary key,\n",
        "    customer_id integer,\n",
        "    items text,\n",
        "    aperitifs text,\n",
        "    appetizers text,\n",
        "    entrees text,\n",
        "    desserts text,\n",
        "    total numeric(10, 2)\n",
        "    )\n",
        "'''\n",
        "stmnt2 = '''create table customers (\n",
        "    id integer primary key,\n",
        "    total_orders int,\n",
        "    total_items int,\n",
        "    total_spent numeric(10, 2),\n",
        "    address text,\n",
        "    city text,\n",
        "    credit_card_expires date,\n",
        "    credit_card_number text,\n",
        "    credit_card_security_code text,\n",
        "    credit_card_provider text,\n",
        "    customer_id text,\n",
        "    email text,\n",
        "    name text,\n",
        "    phone_number text,\n",
        "    state text,\n",
        "    zip_code text check (length(zip_code) = 5)\n",
        "    )\n",
        "'''\n",
        "cursor.execute(stmnt1)\n",
        "cursor.execute(stmnt2)"
      ]
    },
    {
      "cell_type": "code",
      "execution_count": null,
      "metadata": {},
      "outputs": [],
      "source": [
        "merged_list = merged_final.values.tolist()\n",
        "customer_list = []\n",
        "orders_list = []\n",
        "id_set = set()\n",
        "\n",
        "for row in merged_list:\n",
        "    if not pd.isna(row[1]) and row[0] not in id_set:\n",
        "        customer_list.append(row[1:17])\n",
        "        id_set.add(row[0])\n",
        "    orders_list.append(row[17::] + [row[0]])"
      ]
    },
    {
      "cell_type": "code",
      "execution_count": null,
      "metadata": {},
      "outputs": [],
      "source": [
        "stmnt3 = 'insert into orders (order_id, items, aperitifs, appetizers, entrees, desserts, total, customer_id) values (?, ?, ?, ?, ?, ?, ?, ?)'\n",
        "cursor.executemany(stmnt3, orders_list)"
      ]
    },
    {
      "cell_type": "code",
      "execution_count": null,
      "metadata": {},
      "outputs": [],
      "source": [
        "stmnt4 = 'insert into customers (id, total_orders, total_items, total_spent, address, city, credit_card_expires, credit_card_number, credit_card_provider, credit_card_security_code, customer_id, email, name, phone_number, state, zip_code) values (?, ?, ?, ?, ?, ?, ?, ?, ?, ?, ?, ?, ?, ?, ?, ?)'\n",
        "cursor.executemany(stmnt4, customer_list)"
      ]
    },
    {
      "cell_type": "code",
      "execution_count": null,
      "metadata": {},
      "outputs": [],
      "source": [
        "conn.commit()"
      ]
    }
  ],
  "metadata": {
    "colab": {
      "provenance": []
    },
    "kernelspec": {
      "display_name": "Python 3",
      "name": "python3"
    },
    "language_info": {
      "codemirror_mode": {
        "name": "ipython",
        "version": 3
      },
      "file_extension": ".py",
      "mimetype": "text/x-python",
      "name": "python",
      "nbconvert_exporter": "python",
      "pygments_lexer": "ipython3",
      "version": "3.10.6"
    }
  },
  "nbformat": 4,
  "nbformat_minor": 0
}
